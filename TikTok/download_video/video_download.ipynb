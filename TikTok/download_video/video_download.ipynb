{
 "cells": [
  {
   "cell_type": "code",
   "execution_count": 10,
   "id": "3aba4d96",
   "metadata": {},
   "outputs": [],
   "source": [
    "import pandas as pd\n",
    "import numpy as np\n",
    "import datetime\n",
    "import math\n",
    "import os\n",
    "#from TikTokApi import TikTokApi\n",
    "#import moviepy.editor as mp\n",
    "from download_video import extract_INF_video"
   ]
  },
  {
   "cell_type": "code",
   "execution_count": 6,
   "id": "ec76847f",
   "metadata": {},
   "outputs": [],
   "source": [
    "df,video_id,name=extract_INF_video(\"Video_collection.xlsx\")"
   ]
  }
 ],
 "metadata": {
  "kernelspec": {
   "display_name": "Python [conda env:root] *",
   "language": "python",
   "name": "conda-root-py"
  },
  "language_info": {
   "codemirror_mode": {
    "name": "ipython",
    "version": 3
   },
   "file_extension": ".py",
   "mimetype": "text/x-python",
   "name": "python",
   "nbconvert_exporter": "python",
   "pygments_lexer": "ipython3",
   "version": "3.9.7"
  }
 },
 "nbformat": 4,
 "nbformat_minor": 5
}

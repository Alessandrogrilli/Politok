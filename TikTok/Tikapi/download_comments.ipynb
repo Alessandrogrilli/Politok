{
 "cells": [
  {
   "cell_type": "code",
   "execution_count": 40,
   "metadata": {},
   "outputs": [],
   "source": [
    "from tikapi import TikAPI, ValidationException, ResponseException\n",
    "import json\n",
    "import glob\n",
    "import os\n",
    "import re\n",
    "import pandas as pd\n",
    "\n",
    "api = TikAPI(\"1jDHBpHXtsycrmEqK5AVvhvPZq3N2ZGeFNJKzYEJ2MHTPb4y\")\n",
    "User = api.user(accountKey=\"6EjyV4OptbvUz1cKgMTnvbXNH1wKPqLVV42jKlzydbVrFLnb\")\n",
    "\n",
    "_data_path = \"./data/\"\n",
    "video_ids_file = _data_path + \"video_list.csv\"\n",
    "\n",
    "max_requests_for_each_video = 20\n",
    "number_of_comment_each_request = 30 #(max possible value is 30)"
   ]
  },
  {
   "attachments": {},
   "cell_type": "markdown",
   "metadata": {},
   "source": [
    "# Load video IDs"
   ]
  },
  {
   "cell_type": "code",
   "execution_count": 42,
   "metadata": {},
   "outputs": [
    {
     "name": "stdout",
     "output_type": "stream",
     "text": [
      "First 5 video ids:\n",
      "0    7144986246215929094\n",
      "1    7146104387079900421\n",
      "2    7138834940187151622\n",
      "Name: id, dtype: object\n"
     ]
    }
   ],
   "source": [
    "df = pd.read_csv(video_ids_file)\n",
    "\n",
    "# extract video ids from links\n",
    "df[\"id\"] = [re.sub(\"video/\", \"\", re.findall(\"video/[0-9]{19}\", link)[0]) for link in df[\"Link\"]]\n",
    "print(f\"First 5 video ids:\\n{df.head(5)['id']}\")\n"
   ]
  },
  {
   "cell_type": "code",
   "execution_count": 67,
   "metadata": {},
   "outputs": [
    {
     "name": "stdout",
     "output_type": "stream",
     "text": [
      "\n",
      "\n",
      "#########################################\n",
      "\n",
      "Processing video 7144986246215929094\n",
      "\n",
      "\n",
      "#########################################\n",
      "\n",
      "Processing video 7146104387079900421\n",
      "\n",
      "\n",
      "#########################################\n",
      "\n",
      "Processing video 7138834940187151622\n"
     ]
    }
   ],
   "source": [
    "\n",
    "j = 0 #single video request counter\n",
    "total_n_comments_read = 0 #total comments counter\n",
    "\n",
    "# iterate over videos\n",
    "for i, row in df.iterrows():\n",
    "    \n",
    "    # check if comments to this video have already been downloaded\n",
    "    if not row['Done']:\n",
    "        \n",
    "        id = row['id']\n",
    "        file = _data_path + row['Politician'] + \"_com_\" + id + \".json\"\n",
    "        comments = [] #it will contain all the json responses for each request\n",
    "        \n",
    "        print(\"\\n#########################################\\nProcessing video\",id)\n",
    "\n",
    "        try:\n",
    "            response = User.posts.comments.list(\n",
    "                media_id = video_id,\n",
    "                count = number_of_comment_each_request # (max possible value is 30)\n",
    "            )\n",
    "\n",
    "            response_json = response.json()\n",
    "            print(response_json)\n",
    "            \n",
    "            j=1\n",
    "            while(response):    \n",
    "                print(response_json)\n",
    "                # append response data to result list\n",
    "                comments.append(response_json['comments'])\n",
    "                total_n_comments_read += len(response_json['comments'])\n",
    "                    \n",
    "                # check if we reached maximum n of requests for this video\n",
    "                if j >= max_requests_for_each_video:\n",
    "                    break #stop\n",
    "                    \n",
    "                # if not, do next request\n",
    "                cursor = response.json().get('cursor')\n",
    "                response = response.next_items()  \n",
    "\n",
    "                if response == None:\n",
    "                    break # no more responses\n",
    "\n",
    "                response_json = response.json()\n",
    "                \n",
    "                if response_json['comments'] == None:\n",
    "                    break #no more comments (?)\n",
    "                j+=1\n",
    "\n",
    "        except ValidationException as e:\n",
    "            print(e, e.field)\n",
    "\n",
    "        except ResponseException as e:\n",
    "            print(e, e.response.status_code)\n",
    "\n",
    "        # remove comments from last response object. Now, only the meta data remains.\n",
    "        response_json['comments'] = None\n",
    "\n",
    "        # creat dictionary with metadata and comments\n",
    "        out = {\"meta\": response_json, \"comments\": comments}\n",
    "\n",
    "        with open(file, 'w') as f:\n",
    "            json.dump(out, f)\n"
   ]
  },
  {
   "attachments": {},
   "cell_type": "markdown",
   "metadata": {},
   "source": [
    "# Example for reading data"
   ]
  },
  {
   "cell_type": "code",
   "execution_count": 69,
   "metadata": {},
   "outputs": [
    {
     "data": {
      "text/plain": [
       "{'meta': [], 'comments': []}"
      ]
     },
     "execution_count": 69,
     "metadata": {},
     "output_type": "execute_result"
    }
   ],
   "source": [
    "with open(\"./data/Salvini_com_7146104387079900421.json\") as infile:\n",
    "    # returns JSON object as \n",
    "    # a dictionary\n",
    "    data = json.load(infile)\n",
    "data"
   ]
  },
  {
   "cell_type": "markdown",
   "metadata": {},
   "source": [
    "<p style=\"text-align: center;\"> <i><b> Fin </b></i> </p>"
   ]
  }
 ],
 "metadata": {
  "kernelspec": {
   "display_name": "Python 3",
   "language": "python",
   "name": "python3"
  },
  "language_info": {
   "codemirror_mode": {
    "name": "ipython",
    "version": 3
   },
   "file_extension": ".py",
   "mimetype": "text/x-python",
   "name": "python",
   "nbconvert_exporter": "python",
   "pygments_lexer": "ipython3",
   "version": "3.8.10"
  },
  "orig_nbformat": 4,
  "vscode": {
   "interpreter": {
    "hash": "916dbcbb3f70747c44a77c7bcd40155683ae19c65e1c03b4aa3499c5328201f1"
   }
  }
 },
 "nbformat": 4,
 "nbformat_minor": 2
}
